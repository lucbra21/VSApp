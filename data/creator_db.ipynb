{
 "cells": [
  {
   "cell_type": "code",
   "execution_count": 1,
   "metadata": {},
   "outputs": [
    {
     "name": "stdout",
     "output_type": "stream",
     "text": [
      "Base de datos MySQL creada correctamente a partir del CSV.\n"
     ]
    }
   ],
   "source": [
    "import mysql.connector\n",
    "import pandas as pd\n",
    "import os\n",
    "from dotenv import load_dotenv\n",
    "\n",
    "# Cargar variables de entorno desde el archivo .env\n",
    "load_dotenv()\n",
    "\n",
    "# Datos de conexión a MySQL\n",
    "MYSQL_HOST = os.getenv(\"MYSQL_HOST\")\n",
    "MYSQL_USER = os.getenv(\"MYSQL_USER\")\n",
    "MYSQL_PASSWORD = os.getenv(\"MYSQL_PASSWORD\")\n",
    "MYSQL_DATABASE = os.getenv(\"MYSQL_DATABASE\")\n",
    "\n",
    "# Crear la conexión a la base de datos MySQL\n",
    "conn = mysql.connector.connect(\n",
    "    host=MYSQL_HOST,\n",
    "    user=MYSQL_USER,\n",
    "    password=MYSQL_PASSWORD,\n",
    "    database=MYSQL_DATABASE\n",
    ")\n",
    "cursor = conn.cursor()\n",
    "\n",
    "# Crear la tabla \"usuarios\" en MySQL\n",
    "cursor.execute('''\n",
    "    CREATE TABLE IF NOT EXISTS usuarios (\n",
    "        usuario VARCHAR(255) PRIMARY KEY,\n",
    "        nombre VARCHAR(255) NOT NULL,\n",
    "        clave VARCHAR(255) NOT NULL\n",
    "    )\n",
    "''')\n",
    "\n",
    "# Leer el archivo CSV usando pandas\n",
    "csv_path = 'usuarios.csv'  # Ruta del archivo CSV\n",
    "df = pd.read_csv(csv_path)\n",
    "\n",
    "# Insertar los datos del CSV en la base de datos MySQL\n",
    "for _, row in df.iterrows():\n",
    "    cursor.execute('''\n",
    "        INSERT INTO usuarios (usuario, nombre, clave) \n",
    "        VALUES (%s, %s, %s) \n",
    "        ON DUPLICATE KEY UPDATE nombre = VALUES(nombre), clave = VALUES(clave)\n",
    "    ''', (row['usuario'], row['nombre'], row['clave']))\n",
    "\n",
    "# Confirmar los cambios y cerrar la conexión\n",
    "conn.commit()\n",
    "conn.close()\n",
    "\n",
    "print(\"Base de datos MySQL creada correctamente a partir del CSV.\")"
   ]
  }
 ],
 "metadata": {
  "kernelspec": {
   "display_name": "base",
   "language": "python",
   "name": "python3"
  },
  "language_info": {
   "codemirror_mode": {
    "name": "ipython",
    "version": 3
   },
   "file_extension": ".py",
   "mimetype": "text/x-python",
   "name": "python",
   "nbconvert_exporter": "python",
   "pygments_lexer": "ipython3",
   "version": "3.11.8"
  }
 },
 "nbformat": 4,
 "nbformat_minor": 2
}
